{
 "cells": [
  {
   "cell_type": "markdown",
   "id": "consistent-abuse",
   "metadata": {
    "papermill": {
     "duration": 0.011437,
     "end_time": "2021-07-03T23:38:31.466010",
     "exception": false,
     "start_time": "2021-07-03T23:38:31.454573",
     "status": "completed"
    },
    "tags": []
   },
   "source": [
    "Training Notebook for the G2Net competition. This implements a Bi-directional GRU using Keras, using preprocessed spectrogram.\n",
    "\n",
    "This uses Yasufumi Nakama's spectrogram preprocessing notebooks and datasets:\n",
    "* Train: [Notebook](https://www.kaggle.com/yasufuminakama/g2net-spectrogram-generation-train), [Dataset](https://www.kaggle.com/yasufuminakama/g2net-n-mels-128-train-images)\n",
    "* Test: [Notebook](https://www.kaggle.com/yasufuminakama/g2net-spectrogram-generation-test), [Dataset](https://www.kaggle.com/yasufuminakama/g2net-n-mels-128-test-images)"
   ]
  },
  {
   "cell_type": "code",
   "execution_count": 1,
   "id": "manual-conjunction",
   "metadata": {
    "_cell_guid": "b1076dfc-b9ad-4769-8c92-a6c4dae69d19",
    "_uuid": "8f2839f25d086af736a60e9eeb907d3b93b6e0e5",
    "execution": {
     "iopub.execute_input": "2021-07-03T23:38:31.500795Z",
     "iopub.status.busy": "2021-07-03T23:38:31.497077Z",
     "iopub.status.idle": "2021-07-03T23:38:38.617223Z",
     "shell.execute_reply": "2021-07-03T23:38:38.617771Z",
     "shell.execute_reply.started": "2021-07-03T03:16:26.413757Z"
    },
    "papermill": {
     "duration": 7.141636,
     "end_time": "2021-07-03T23:38:38.618196",
     "exception": false,
     "start_time": "2021-07-03T23:38:31.476560",
     "status": "completed"
    },
    "tags": []
   },
   "outputs": [],
   "source": [
    "import os\n",
    "\n",
    "import numpy as np\n",
    "import pandas as pd\n",
    "from sklearn.model_selection import train_test_split\n",
    "import tensorflow as tf\n",
    "from tensorflow.keras import layers"
   ]
  },
  {
   "cell_type": "code",
   "execution_count": 2,
   "id": "amateur-position",
   "metadata": {
    "execution": {
     "iopub.execute_input": "2021-07-03T23:38:38.652749Z",
     "iopub.status.busy": "2021-07-03T23:38:38.651954Z",
     "iopub.status.idle": "2021-07-03T23:38:38.653746Z",
     "shell.execute_reply": "2021-07-03T23:38:38.654290Z",
     "shell.execute_reply.started": "2021-07-03T03:16:33.153676Z"
    },
    "papermill": {
     "duration": 0.025537,
     "end_time": "2021-07-03T23:38:38.654492",
     "exception": false,
     "start_time": "2021-07-03T23:38:38.628955",
     "status": "completed"
    },
    "tags": []
   },
   "outputs": [],
   "source": [
    "class CustomDataset(tf.keras.utils.Sequence):\n",
    "    def __init__(self, df, directory, batch_size=32, random_state=42, shuffle=True, target=True, ext='.npy'):\n",
    "        np.random.seed(random_state)\n",
    "        \n",
    "        self.directory = directory\n",
    "        self.df = df\n",
    "        self.shuffle = shuffle\n",
    "        self.target = target\n",
    "        self.batch_size = batch_size\n",
    "        self.ext = ext\n",
    "        \n",
    "        self.on_epoch_end()\n",
    "    \n",
    "    def __len__(self):\n",
    "        return np.ceil(self.df.shape[0] / self.batch_size).astype(int)\n",
    "    \n",
    "    def __getitem__(self, idx):\n",
    "        start_idx = idx * self.batch_size\n",
    "        batch = self.df[start_idx: start_idx + self.batch_size]\n",
    "        \n",
    "        signals = []\n",
    "\n",
    "        for fname in batch.id:\n",
    "            path = os.path.join(self.directory, fname + self.ext)\n",
    "            data = np.load(path)\n",
    "            signals.append(data)\n",
    "        \n",
    "        signals = np.stack(signals).astype('float32')\n",
    "        \n",
    "        if self.target:\n",
    "            return signals, batch.target.values\n",
    "        else:\n",
    "            return signals\n",
    "    \n",
    "    def on_epoch_end(self):\n",
    "        if self.shuffle:\n",
    "            self.df = self.df.sample(frac=1).reset_index(drop=True)"
   ]
  },
  {
   "cell_type": "code",
   "execution_count": 3,
   "id": "sublime-projector",
   "metadata": {
    "execution": {
     "iopub.execute_input": "2021-07-03T23:38:38.679080Z",
     "iopub.status.busy": "2021-07-03T23:38:38.678363Z",
     "iopub.status.idle": "2021-07-03T23:38:38.687230Z",
     "shell.execute_reply": "2021-07-03T23:38:38.687753Z",
     "shell.execute_reply.started": "2021-07-03T03:17:21.556617Z"
    },
    "papermill": {
     "duration": 0.022928,
     "end_time": "2021-07-03T23:38:38.687959",
     "exception": false,
     "start_time": "2021-07-03T23:38:38.665031",
     "status": "completed"
    },
    "tags": []
   },
   "outputs": [],
   "source": [
    "def build_model():\n",
    "    inputs = layers.Input(shape=(27, 128))\n",
    "\n",
    "    gru1 = layers.Bidirectional(layers.GRU(128, return_sequences=True), name='gru_1')\n",
    "    gru2 = layers.Bidirectional(layers.GRU(128, return_sequences=True), name='gru_2')\n",
    "    pool1 = layers.GlobalAveragePooling1D(name='avg_pool')\n",
    "    pool2 = layers.GlobalMaxPooling1D(name='max_pool')\n",
    "\n",
    "    x = gru1(inputs)\n",
    "    x = gru2(x)\n",
    "    x = tf.keras.layers.Concatenate()([pool1(x), pool2(x)])\n",
    "    \n",
    "    x = layers.Dense(256, activation=\"relu\")(x)\n",
    "    x = layers.Dense(128, activation=\"relu\")(x)\n",
    "    x = layers.Dense(1, activation=\"sigmoid\", name=\"sigmoid\")(x)\n",
    "\n",
    "    model = tf.keras.Model(inputs=inputs, outputs=x)\n",
    "    \n",
    "    return model"
   ]
  },
  {
   "cell_type": "code",
   "execution_count": 4,
   "id": "blessed-panama",
   "metadata": {
    "execution": {
     "iopub.execute_input": "2021-07-03T23:38:38.712416Z",
     "iopub.status.busy": "2021-07-03T23:38:38.711740Z",
     "iopub.status.idle": "2021-07-03T23:38:39.470050Z",
     "shell.execute_reply": "2021-07-03T23:38:39.470561Z",
     "shell.execute_reply.started": "2021-07-03T03:16:34.934967Z"
    },
    "papermill": {
     "duration": 0.772193,
     "end_time": "2021-07-03T23:38:39.470763",
     "exception": false,
     "start_time": "2021-07-03T23:38:38.698570",
     "status": "completed"
    },
    "tags": []
   },
   "outputs": [
    {
     "data": {
      "text/html": [
       "<div>\n",
       "<style scoped>\n",
       "    .dataframe tbody tr th:only-of-type {\n",
       "        vertical-align: middle;\n",
       "    }\n",
       "\n",
       "    .dataframe tbody tr th {\n",
       "        vertical-align: top;\n",
       "    }\n",
       "\n",
       "    .dataframe thead th {\n",
       "        text-align: right;\n",
       "    }\n",
       "</style>\n",
       "<table border=\"1\" class=\"dataframe\">\n",
       "  <thead>\n",
       "    <tr style=\"text-align: right;\">\n",
       "      <th></th>\n",
       "      <th>id</th>\n",
       "      <th>target</th>\n",
       "    </tr>\n",
       "  </thead>\n",
       "  <tbody>\n",
       "    <tr>\n",
       "      <th>0</th>\n",
       "      <td>00000e74ad</td>\n",
       "      <td>1</td>\n",
       "    </tr>\n",
       "    <tr>\n",
       "      <th>1</th>\n",
       "      <td>00001f4945</td>\n",
       "      <td>0</td>\n",
       "    </tr>\n",
       "    <tr>\n",
       "      <th>2</th>\n",
       "      <td>0000661522</td>\n",
       "      <td>0</td>\n",
       "    </tr>\n",
       "    <tr>\n",
       "      <th>3</th>\n",
       "      <td>00007a006a</td>\n",
       "      <td>0</td>\n",
       "    </tr>\n",
       "    <tr>\n",
       "      <th>4</th>\n",
       "      <td>0000a38978</td>\n",
       "      <td>1</td>\n",
       "    </tr>\n",
       "  </tbody>\n",
       "</table>\n",
       "</div>"
      ],
      "text/plain": [
       "           id  target\n",
       "0  00000e74ad       1\n",
       "1  00001f4945       0\n",
       "2  0000661522       0\n",
       "3  00007a006a       0\n",
       "4  0000a38978       1"
      ]
     },
     "execution_count": 4,
     "metadata": {},
     "output_type": "execute_result"
    }
   ],
   "source": [
    "train = pd.read_csv('./input/g2net-gravitational-wave-detection/training_labels.csv')\n",
    "sub = pd.read_csv('./input/g2net-gravitational-wave-detection/sample_submission.csv')\n",
    "train.head()"
   ]
  },
  {
   "cell_type": "code",
   "execution_count": 5,
   "id": "administrative-irrigation",
   "metadata": {
    "execution": {
     "iopub.execute_input": "2021-07-03T23:38:39.497000Z",
     "iopub.status.busy": "2021-07-03T23:38:39.496060Z",
     "iopub.status.idle": "2021-07-03T23:38:39.711034Z",
     "shell.execute_reply": "2021-07-03T23:38:39.710412Z",
     "shell.execute_reply.started": "2021-07-03T03:16:35.591435Z"
    },
    "papermill": {
     "duration": 0.228984,
     "end_time": "2021-07-03T23:38:39.711230",
     "exception": false,
     "start_time": "2021-07-03T23:38:39.482246",
     "status": "completed"
    },
    "tags": []
   },
   "outputs": [],
   "source": [
    "sample_df = train.sample(frac=1).reset_index(drop=True)\n",
    "\n",
    "split = int(sample_df.shape[0] * 0.8)\n",
    "train_df = sample_df[:split]\n",
    "valid_df = sample_df[split:]"
   ]
  },
  {
   "cell_type": "code",
   "execution_count": 6,
   "id": "italic-passage",
   "metadata": {
    "execution": {
     "iopub.execute_input": "2021-07-03T23:38:39.738851Z",
     "iopub.status.busy": "2021-07-03T23:38:39.738215Z",
     "iopub.status.idle": "2021-07-03T23:38:39.890674Z",
     "shell.execute_reply": "2021-07-03T23:38:39.890055Z",
     "shell.execute_reply.started": "2021-07-03T03:16:35.931328Z"
    },
    "papermill": {
     "duration": 0.168894,
     "end_time": "2021-07-03T23:38:39.890848",
     "exception": false,
     "start_time": "2021-07-03T23:38:39.721954",
     "status": "completed"
    },
    "tags": []
   },
   "outputs": [],
   "source": [
    "train_dset = CustomDataset(\n",
    "    train_df, './input/g2net-n-mels-128-train-images', batch_size=64)\n",
    "\n",
    "valid_dset = CustomDataset(\n",
    "    valid_df, './input/g2net-n-mels-128-train-images', batch_size=64, shuffle=False)\n",
    "\n",
    "test_dset = CustomDataset(\n",
    "    sub, \"./input/g2net-n-mels-128-test-images\", batch_size=64, target=False, shuffle=False)"
   ]
  },
  {
   "cell_type": "code",
   "execution_count": 7,
   "id": "entitled-executive",
   "metadata": {
    "execution": {
     "iopub.execute_input": "2021-07-03T23:38:39.919706Z",
     "iopub.status.busy": "2021-07-03T23:38:39.918807Z",
     "iopub.status.idle": "2021-07-03T23:38:41.310567Z",
     "shell.execute_reply": "2021-07-03T23:38:41.311139Z",
     "shell.execute_reply.started": "2021-07-03T03:17:24.392892Z"
    },
    "papermill": {
     "duration": 1.409112,
     "end_time": "2021-07-03T23:38:41.311371",
     "exception": false,
     "start_time": "2021-07-03T23:38:39.902259",
     "status": "completed"
    },
    "tags": []
   },
   "outputs": [
    {
     "name": "stdout",
     "output_type": "stream",
     "text": [
      "Model: \"model\"\n",
      "__________________________________________________________________________________________________\n",
      "Layer (type)                    Output Shape         Param #     Connected to                     \n",
      "==================================================================================================\n",
      "input_1 (InputLayer)            [(None, 27, 128)]    0                                            \n",
      "__________________________________________________________________________________________________\n",
      "gru_1 (Bidirectional)           (None, 27, 256)      198144      input_1[0][0]                    \n",
      "__________________________________________________________________________________________________\n",
      "gru_2 (Bidirectional)           (None, 27, 256)      296448      gru_1[0][0]                      \n",
      "__________________________________________________________________________________________________\n",
      "avg_pool (GlobalAveragePooling1 (None, 256)          0           gru_2[0][0]                      \n",
      "__________________________________________________________________________________________________\n",
      "max_pool (GlobalMaxPooling1D)   (None, 256)          0           gru_2[0][0]                      \n",
      "__________________________________________________________________________________________________\n",
      "concatenate (Concatenate)       (None, 512)          0           avg_pool[0][0]                   \n",
      "                                                                 max_pool[0][0]                   \n",
      "__________________________________________________________________________________________________\n",
      "dense (Dense)                   (None, 256)          131328      concatenate[0][0]                \n",
      "__________________________________________________________________________________________________\n",
      "dense_1 (Dense)                 (None, 128)          32896       dense[0][0]                      \n",
      "__________________________________________________________________________________________________\n",
      "sigmoid (Dense)                 (None, 1)            129         dense_1[0][0]                    \n",
      "==================================================================================================\n",
      "Total params: 658,945\n",
      "Trainable params: 658,945\n",
      "Non-trainable params: 0\n",
      "__________________________________________________________________________________________________\n"
     ]
    }
   ],
   "source": [
    "model = build_model()\n",
    "model.compile(\"adam\", loss=\"binary_crossentropy\", metrics=[tf.keras.metrics.AUC()])\n",
    "model.summary()"
   ]
  },
  {
   "cell_type": "code",
   "execution_count": 8,
   "id": "boxed-lithuania",
   "metadata": {
    "execution": {
     "iopub.execute_input": "2021-07-03T23:38:41.342131Z",
     "iopub.status.busy": "2021-07-03T23:38:41.341462Z",
     "iopub.status.idle": "2021-07-04T03:22:04.724586Z",
     "shell.execute_reply": "2021-07-04T03:22:04.725196Z"
    },
    "papermill": {
     "duration": 13403.40217,
     "end_time": "2021-07-04T03:22:04.725408",
     "exception": false,
     "start_time": "2021-07-03T23:38:41.323238",
     "status": "completed"
    },
    "tags": []
   },
   "outputs": [
    {
     "name": "stdout",
     "output_type": "stream",
     "text": [
      "Epoch 1/10\n",
      "7000/7000 [==============================] - 1347s 191ms/step - loss: 0.6662 - auc: 0.5997 - val_loss: 0.5844 - val_auc: 0.7542\n",
      "Epoch 2/10\n",
      "7000/7000 [==============================] - 1345s 192ms/step - loss: 0.5613 - auc: 0.7599 - val_loss: 0.5352 - val_auc: 0.7947\n",
      "Epoch 3/10\n",
      "7000/7000 [==============================] - 1398s 200ms/step - loss: 0.5436 - auc: 0.7786 - val_loss: 0.5588 - val_auc: 0.7998\n",
      "Epoch 4/10\n",
      "7000/7000 [==============================] - 1387s 198ms/step - loss: 0.5393 - auc: 0.7822 - val_loss: 0.5280 - val_auc: 0.7984\n",
      "Epoch 5/10\n",
      "7000/7000 [==============================] - 1269s 181ms/step - loss: 0.5371 - auc: 0.7846 - val_loss: 0.5252 - val_auc: 0.7963\n",
      "Epoch 6/10\n",
      "7000/7000 [==============================] - 1286s 184ms/step - loss: 0.5410 - auc: 0.7814 - val_loss: 0.5344 - val_auc: 0.7927\n",
      "Epoch 7/10\n",
      "7000/7000 [==============================] - 1287s 184ms/step - loss: 0.5441 - auc: 0.7785 - val_loss: 0.5542 - val_auc: 0.7712\n",
      "Epoch 8/10\n",
      "7000/7000 [==============================] - 1275s 182ms/step - loss: 0.5542 - auc: 0.7687 - val_loss: 0.5357 - val_auc: 0.7889\n",
      "Epoch 9/10\n",
      "7000/7000 [==============================] - 1329s 190ms/step - loss: 0.5431 - auc: 0.7794 - val_loss: 0.5350 - val_auc: 0.7932\n",
      "Epoch 10/10\n",
      "7000/7000 [==============================] - 1455s 208ms/step - loss: 0.5425 - auc: 0.7793 - val_loss: 0.5370 - val_auc: 0.7901\n"
     ]
    }
   ],
   "source": [
    "ckpt = tf.keras.callbacks.ModelCheckpoint(\n",
    "    \"model_weights.h5\", save_best_only=True, save_weights_only=True,\n",
    ")\n",
    "\n",
    "train_history = model.fit(\n",
    "    train_dset, \n",
    "    use_multiprocessing=True, \n",
    "    workers=4, \n",
    "    epochs=10,\n",
    "    validation_data=valid_dset,\n",
    "    callbacks=[ckpt],\n",
    ")"
   ]
  },
  {
   "cell_type": "code",
   "execution_count": 9,
   "id": "convinced-particle",
   "metadata": {
    "execution": {
     "iopub.execute_input": "2021-07-04T03:22:47.950901Z",
     "iopub.status.busy": "2021-07-04T03:22:47.949798Z",
     "iopub.status.idle": "2021-07-04T03:22:48.078124Z",
     "shell.execute_reply": "2021-07-04T03:22:48.077453Z"
    },
    "papermill": {
     "duration": 21.953061,
     "end_time": "2021-07-04T03:22:48.078302",
     "exception": false,
     "start_time": "2021-07-04T03:22:26.125241",
     "status": "completed"
    },
    "tags": []
   },
   "outputs": [],
   "source": [
    "model.load_weights('model_weights.h5')"
   ]
  },
  {
   "cell_type": "code",
   "execution_count": 10,
   "id": "lightweight-opening",
   "metadata": {
    "execution": {
     "iopub.execute_input": "2021-07-04T03:23:31.816558Z",
     "iopub.status.busy": "2021-07-04T03:23:31.815754Z",
     "iopub.status.idle": "2021-07-04T03:31:21.276685Z",
     "shell.execute_reply": "2021-07-04T03:31:21.276041Z"
    },
    "papermill": {
     "duration": 491.278753,
     "end_time": "2021-07-04T03:31:21.276888",
     "exception": false,
     "start_time": "2021-07-04T03:23:09.998135",
     "status": "completed"
    },
    "tags": []
   },
   "outputs": [
    {
     "name": "stdout",
     "output_type": "stream",
     "text": [
      "3532/3532 [==============================] - 469s 132ms/step\n"
     ]
    }
   ],
   "source": [
    "y_pred = model.predict(\n",
    "    test_dset, use_multiprocessing=True, workers=4, verbose=1\n",
    ")"
   ]
  },
  {
   "cell_type": "code",
   "execution_count": 11,
   "id": "obvious-chicago",
   "metadata": {
    "execution": {
     "iopub.execute_input": "2021-07-04T03:32:07.065010Z",
     "iopub.status.busy": "2021-07-04T03:32:07.064312Z",
     "iopub.status.idle": "2021-07-04T03:32:07.817643Z",
     "shell.execute_reply": "2021-07-04T03:32:07.818266Z"
    },
    "papermill": {
     "duration": 23.599874,
     "end_time": "2021-07-04T03:32:07.818493",
     "exception": false,
     "start_time": "2021-07-04T03:31:44.218619",
     "status": "completed"
    },
    "tags": []
   },
   "outputs": [],
   "source": [
    "sub['target'] = y_pred\n",
    "sub.to_csv('submission.csv', index=False)"
   ]
  }
 ],
 "metadata": {
  "kernelspec": {
   "display_name": "Python 3",
   "language": "python",
   "name": "python3"
  },
  "language_info": {
   "codemirror_mode": {
    "name": "ipython",
    "version": 3
   },
   "file_extension": ".py",
   "mimetype": "text/x-python",
   "name": "python",
   "nbconvert_exporter": "python",
   "pygments_lexer": "ipython3",
   "version": "3.7.10"
  },
  "papermill": {
   "default_parameters": {},
   "duration": 14051.593456,
   "end_time": "2021-07-04T03:32:33.968372",
   "environment_variables": {},
   "exception": null,
   "input_path": "__notebook__.ipynb",
   "output_path": "__notebook__.ipynb",
   "parameters": {},
   "start_time": "2021-07-03T23:38:22.374916",
   "version": "2.3.3"
  }
 },
 "nbformat": 4,
 "nbformat_minor": 5
}
